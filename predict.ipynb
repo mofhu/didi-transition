{
 "cells": [
  {
   "cell_type": "code",
   "execution_count": 10,
   "metadata": {
    "collapsed": false
   },
   "outputs": [
    {
     "name": "stdout",
     "output_type": "stream",
     "text": [
      "43\n",
      "      start_dist_num      time_slice  y_pred\n",
      "0                  1   2016-01-23-46     1.0\n",
      "1                  1   2016-01-23-58     1.0\n",
      "2                  1   2016-01-23-70     1.0\n",
      "3                  1   2016-01-23-82     1.0\n",
      "4                  1   2016-01-23-94     1.0\n",
      "5                  1  2016-01-23-106     1.0\n",
      "6                  1  2016-01-23-118     1.0\n",
      "7                  1  2016-01-23-130     1.0\n",
      "8                  1  2016-01-23-142     1.0\n",
      "9                  1   2016-01-25-58     1.0\n",
      "10                 1   2016-01-25-70     1.0\n",
      "11                 1   2016-01-25-82     1.0\n",
      "12                 1   2016-01-25-94     1.0\n",
      "13                 1  2016-01-25-106     1.0\n",
      "14                 1  2016-01-25-118     1.0\n",
      "15                 1  2016-01-25-130     1.0\n",
      "16                 1  2016-01-25-142     1.0\n",
      "17                 1   2016-01-27-46     1.0\n",
      "18                 1   2016-01-27-58     1.0\n",
      "19                 1   2016-01-27-70     1.0\n",
      "20                 1   2016-01-27-82     1.0\n",
      "21                 1   2016-01-27-94     1.0\n",
      "22                 1  2016-01-27-106     1.0\n",
      "23                 1  2016-01-27-118     1.0\n",
      "24                 1  2016-01-27-130     1.0\n",
      "25                 1  2016-01-27-142     1.0\n",
      "26                 1   2016-01-29-58     1.0\n",
      "27                 1   2016-01-29-70     1.0\n",
      "28                 1   2016-01-29-82     1.0\n",
      "29                 1   2016-01-29-94     1.0\n",
      "...              ...             ...     ...\n",
      "2808              66  2016-01-25-106     1.0\n",
      "2809              66  2016-01-25-118     1.0\n",
      "2810              66  2016-01-25-130     1.0\n",
      "2811              66  2016-01-25-142     1.0\n",
      "2812              66   2016-01-27-46     1.0\n",
      "2813              66   2016-01-27-58     1.0\n",
      "2814              66   2016-01-27-70     1.0\n",
      "2815              66   2016-01-27-82     1.0\n",
      "2816              66   2016-01-27-94     1.0\n",
      "2817              66  2016-01-27-106     1.0\n",
      "2818              66  2016-01-27-118     1.0\n",
      "2819              66  2016-01-27-130     1.0\n",
      "2820              66  2016-01-27-142     1.0\n",
      "2821              66   2016-01-29-58     1.0\n",
      "2822              66   2016-01-29-70     1.0\n",
      "2823              66   2016-01-29-82     1.0\n",
      "2824              66   2016-01-29-94     1.0\n",
      "2825              66  2016-01-29-106     1.0\n",
      "2826              66  2016-01-29-118     1.0\n",
      "2827              66  2016-01-29-130     1.0\n",
      "2828              66  2016-01-29-142     1.0\n",
      "2829              66   2016-01-31-46     1.0\n",
      "2830              66   2016-01-31-58     1.0\n",
      "2831              66   2016-01-31-70     1.0\n",
      "2832              66   2016-01-31-82     1.0\n",
      "2833              66   2016-01-31-94     1.0\n",
      "2834              66  2016-01-31-106     1.0\n",
      "2835              66  2016-01-31-118     1.0\n",
      "2836              66  2016-01-31-130     1.0\n",
      "2837              66  2016-01-31-142     1.0\n",
      "\n",
      "[2838 rows x 3 columns]\n"
     ]
    }
   ],
   "source": [
    "import pandas as pd\n",
    "\n",
    "def main():\n",
    "    pred_time_slices = open('data/season_1/test_set_2/read_me_2.txt')\n",
    "    all_time_slices = []\n",
    "    for line in pred_time_slices:\n",
    "        if '2016' in line:\n",
    "            all_time_slices.append(line[:-1])\n",
    "    #print(all_time_slices)\n",
    "    #print(len(all_time_slices))\n",
    "\n",
    "    df = pd.DataFrame({'start_dist_num':[], 'time_slice':[], 'y_pred': []})\n",
    "    for i in range(0, 66):\n",
    "        dist_num = i + 1\n",
    "        dist_df = pd.DataFrame({'start_dist_num':[dist_num] * len(all_time_slices),\n",
    "                                'time_slice': all_time_slices,\n",
    "                                'y_pred': [1] * len(all_time_slices)\n",
    "                                })\n",
    "        #print(dist_df)\n",
    "        df = df.append(dist_df, ignore_index=True)\n",
    "        #print(df)\n",
    "        #break\n",
    "    #print(df)\n",
    "    df.start_dist_num = df.start_dist_num.astype(int)\n",
    "    #print(df)\n",
    "    df.to_csv('20160612.csv',index=False, header=False)\n",
    "main()"
   ]
  },
  {
   "cell_type": "code",
   "execution_count": null,
   "metadata": {
    "collapsed": true
   },
   "outputs": [],
   "source": []
  }
 ],
 "metadata": {
  "kernelspec": {
   "display_name": "Python 3",
   "language": "python",
   "name": "python3"
  },
  "language_info": {
   "codemirror_mode": {
    "name": "ipython",
    "version": 3
   },
   "file_extension": ".py",
   "mimetype": "text/x-python",
   "name": "python",
   "nbconvert_exporter": "python",
   "pygments_lexer": "ipython3",
   "version": "3.5.1"
  }
 },
 "nbformat": 4,
 "nbformat_minor": 0
}
