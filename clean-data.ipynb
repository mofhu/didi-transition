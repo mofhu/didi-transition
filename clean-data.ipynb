{
 "cells": [
  {
   "cell_type": "code",
   "execution_count": null,
   "metadata": {
    "collapsed": true
   },
   "outputs": [],
   "source": [
    "import pandas as pd\n",
    "import numpy as np"
   ]
  },
  {
   "cell_type": "code",
   "execution_count": null,
   "metadata": {
    "collapsed": true
   },
   "outputs": [],
   "source": [
    "order_0101 = pd.read_table('data/season_1/training_data/order_data/order_data_2016-01-01.tsv',\n",
    "                             header=None, \n",
    "                             names=[\n",
    "                                        'order_id', 'driver_id', 'passenger_id', \n",
    "                                        'start_district_hash', 'dest_district_hash',\n",
    "                                        'price', 'time'\n",
    "                                   ])\n",
    "# use pd.read_table() to read from tab-separated files.\n",
    "# http://pandas.pydata.org/pandas-docs/stable/generated/pandas.read_table.html\n",
    "\n",
    "order_0101"
   ]
  },
  {
   "cell_type": "code",
   "execution_count": null,
   "metadata": {
    "collapsed": false
   },
   "outputs": [],
   "source": [
    "order_0101[['date', 'time']] = order_0101.time.str.extract('([^ ]+) ([0-9:]+)', expand=False)\n",
    "\n",
    "# use `str.extract()` to extract regex from time string"
   ]
  },
  {
   "cell_type": "code",
   "execution_count": null,
   "metadata": {
    "collapsed": false
   },
   "outputs": [],
   "source": [
    "order_0101['time_slice'] = order_0101['time'].apply(lambda x: int(x[:2])*6 + int(x[3]) + 1)\n",
    "\n",
    "# calculate time slices (1-144, 10-min a slice)\n",
    "#order_0101[['time', 'time_slice']]"
   ]
  },
  {
   "cell_type": "code",
   "execution_count": null,
   "metadata": {
    "collapsed": false
   },
   "outputs": [],
   "source": [
    "order_0101"
   ]
  },
  {
   "cell_type": "code",
   "execution_count": null,
   "metadata": {
    "collapsed": false
   },
   "outputs": [],
   "source": [
    "output = order_0101.groupby(['date','start_district_hash','time_slice']).count().iloc[:,:2]\n",
    "\n",
    "# NaN will not be count, so we got succeed orders from groupby driver_id.\n",
    "\n",
    "output.columns = [\"order_count\", \"succeed_count\"]\n",
    "\n",
    "output[\"gap\"] = output[\"order_count\"] - output[\"succeed_count\"]\n"
   ]
  },
  {
   "cell_type": "code",
   "execution_count": null,
   "metadata": {
    "collapsed": false
   },
   "outputs": [],
   "source": [
    "\n",
    "# output.sort_values(by='price', ascending=False)\n",
    "\n",
    "output"
   ]
  },
  {
   "cell_type": "code",
   "execution_count": null,
   "metadata": {
    "collapsed": true
   },
   "outputs": [],
   "source": []
  }
 ],
 "metadata": {
  "kernelspec": {
   "display_name": "Python 3",
   "language": "python",
   "name": "python3"
  },
  "language_info": {
   "codemirror_mode": {
    "name": "ipython",
    "version": 3
   },
   "file_extension": ".py",
   "mimetype": "text/x-python",
   "name": "python",
   "nbconvert_exporter": "python",
   "pygments_lexer": "ipython3",
   "version": "3.5.1"
  }
 },
 "nbformat": 4,
 "nbformat_minor": 0
}
